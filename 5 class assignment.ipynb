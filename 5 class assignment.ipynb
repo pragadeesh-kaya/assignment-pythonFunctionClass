{
 "cells": [
  {
   "cell_type": "code",
   "execution_count": 1,
   "id": "8bf7d8d1-bdc9-4ad7-9126-8d393916af90",
   "metadata": {},
   "outputs": [],
   "source": [
    "fields = [\"Machine Learning\",\"Neural Networks\",\"Vision\",\"Robotics\",\"Speech Processing\",\"Natural Language Processing\"]"
   ]
  },
  {
   "cell_type": "code",
   "execution_count": 2,
   "id": "62f71c1b-2872-4da0-a567-03a3c5718e4c",
   "metadata": {},
   "outputs": [
    {
     "name": "stdout",
     "output_type": "stream",
     "text": [
      "Sub-fields in AI are:\n",
      "Machine Learning\n",
      "Neural Networks\n",
      "Vision\n",
      "Robotics\n",
      "Speech Processing\n",
      "Natural Language Processing\n"
     ]
    }
   ],
   "source": [
    "class subfieldsInAI():\n",
    "    def subfields(my_list):\n",
    "        print(\"Sub-fields in AI are:\")\n",
    "        for item in my_list:\n",
    "            print(item)\n",
    "subfieldsInAI.subfields(fields)"
   ]
  },
  {
   "cell_type": "code",
   "execution_count": 4,
   "id": "4d39fcf9-5a06-4c25-ae9e-b56ce5bee0da",
   "metadata": {},
   "outputs": [
    {
     "name": "stdin",
     "output_type": "stream",
     "text": [
      "Enter a number:  52452\n"
     ]
    },
    {
     "data": {
      "text/plain": [
       "'52452 is even number'"
      ]
     },
     "execution_count": 4,
     "metadata": {},
     "output_type": "execute_result"
    }
   ],
   "source": [
    "class OddEven():\n",
    "    def Odd_or_Even():\n",
    "        num = int(input(\"Enter a number: \"))\n",
    "        if num % 2 == 0:\n",
    "            return(f\"{num} is even number\")\n",
    "        else:\n",
    "            return(f\"{num} is odd number\")\n",
    "OddEven.Odd_or_Even()"
   ]
  },
  {
   "cell_type": "code",
   "execution_count": 5,
   "id": "4fc00373-991b-49ab-9930-e53e3e7105fd",
   "metadata": {},
   "outputs": [
    {
     "name": "stdin",
     "output_type": "stream",
     "text": [
      "Your Gender:  male\n",
      "Your Age:  20\n"
     ]
    },
    {
     "data": {
      "text/plain": [
       "'Not Eligible'"
      ]
     },
     "execution_count": 5,
     "metadata": {},
     "output_type": "execute_result"
    }
   ],
   "source": [
    "class EligibilityForMarriage():\n",
    "    def MarriageEligibility():\n",
    "        gender = input(\"Your Gender: \")\n",
    "        age = int(input(\"Your Age: \"))\n",
    "        if (gender == \"Male\" or gender == \"male\") and age >= 21:\n",
    "            return \"Eligible\"\n",
    "        elif (gender == \"Female\" or gender == \"female\") and age > 18:\n",
    "            return \"Eligible\"\n",
    "        else:\n",
    "            return \"Not Eligible\"\n",
    "EligibilityForMarriage.MarriageEligibility()\n",
    "        "
   ]
  },
  {
   "cell_type": "code",
   "execution_count": 7,
   "id": "55c198da-a84c-4f80-8ba0-3273493b353e",
   "metadata": {},
   "outputs": [
    {
     "name": "stdin",
     "output_type": "stream",
     "text": [
      "Subject1=  98\n",
      "Subject2=  87\n",
      "Subject3=  95\n",
      "Subject4=  95\n",
      "Subject5=  93\n"
     ]
    },
    {
     "name": "stdout",
     "output_type": "stream",
     "text": [
      "Total : 468\n"
     ]
    },
    {
     "data": {
      "text/plain": [
       "'percentage: 93.6'"
      ]
     },
     "execution_count": 7,
     "metadata": {},
     "output_type": "execute_result"
    }
   ],
   "source": [
    "class FindPercent():\n",
    "    def percentage():\n",
    "        mark1 = int(input(\"Subject1= \"))\n",
    "        mark2 = int(input(\"Subject2= \"))\n",
    "        mark3 = int(input(\"Subject3= \"))\n",
    "        mark4 = int(input(\"Subject4= \"))\n",
    "        mark5 = int(input(\"Subject5= \"))\n",
    "        total = mark1+mark2+mark3+mark4+mark5\n",
    "        print(f\"Total : {total}\")\n",
    "        percentage = total/5\n",
    "        return f\"percentage: {percentage}\"\n",
    "FindPercent.percentage()\n",
    "    "
   ]
  },
  {
   "cell_type": "code",
   "execution_count": 8,
   "id": "f79752ee-5fda-4aad-8784-4a4fbc797cb3",
   "metadata": {},
   "outputs": [
    {
     "name": "stdin",
     "output_type": "stream",
     "text": [
      "Height:  32\n",
      "Breadth:  34\n"
     ]
    },
    {
     "name": "stdout",
     "output_type": "stream",
     "text": [
      "Area formula: (Height*Breadth)/2\n",
      "Area of triangle: 544.0\n"
     ]
    },
    {
     "name": "stdin",
     "output_type": "stream",
     "text": [
      "Height1:  2\n",
      "Height2:  4\n",
      "Breadth:  4\n"
     ]
    },
    {
     "name": "stdout",
     "output_type": "stream",
     "text": [
      "Perimeter formula: Height1+Height2+breadth\n"
     ]
    },
    {
     "data": {
      "text/plain": [
       "'Perimeter of triangle: 10'"
      ]
     },
     "execution_count": 8,
     "metadata": {},
     "output_type": "execute_result"
    }
   ],
   "source": [
    "class triangle():\n",
    "    def Triangle():\n",
    "        Height = int(input(\"Height: \"))\n",
    "        Breadth = int(input(\"Breadth: \"))\n",
    "        print(\"Area formula: (Height*Breadth)/2\")\n",
    "        print(f\"Area of triangle: {(Height*Breadth)/2}\")\n",
    "        Height1 = int(input(\"Height1: \"))\n",
    "        Height2 = int(input(\"Height2: \"))\n",
    "        breadth = int(input(\"Breadth: \"))\n",
    "        print(\"Perimeter formula: Height1+Height2+breadth\")\n",
    "        return f\"Perimeter of triangle: {Height1+Height2+breadth}\"\n",
    "triangle.Triangle()  "
   ]
  },
  {
   "cell_type": "code",
   "execution_count": null,
   "id": "3fbb7f46-2494-4cbb-849d-b1db03265a6a",
   "metadata": {},
   "outputs": [],
   "source": []
  }
 ],
 "metadata": {
  "kernelspec": {
   "display_name": "Python 3 (ipykernel)",
   "language": "python",
   "name": "python3"
  },
  "language_info": {
   "codemirror_mode": {
    "name": "ipython",
    "version": 3
   },
   "file_extension": ".py",
   "mimetype": "text/x-python",
   "name": "python",
   "nbconvert_exporter": "python",
   "pygments_lexer": "ipython3",
   "version": "3.12.4"
  }
 },
 "nbformat": 4,
 "nbformat_minor": 5
}
